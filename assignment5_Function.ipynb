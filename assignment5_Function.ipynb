{
 "cells": [
  {
   "cell_type": "code",
   "execution_count": null,
   "id": "9cb806d0-868a-4b28-917a-ae04a2b57f23",
   "metadata": {},
   "outputs": [],
   "source": [
    " # Create a class and function, and list out the items in the list"
   ]
  },
  {
   "cell_type": "code",
   "execution_count": 10,
   "id": "b485204f-5eb2-4cad-a275-a38dc0982650",
   "metadata": {},
   "outputs": [],
   "source": [
    "def Subfields():\n",
    "    print(\"Sub-fields in AI are: \")\n",
    "    message = \"Sub-fields in AI are: \"\n",
    "    print(\"Machine Learning\")\n",
    "    message = \"Machine Learning: \"\n",
    "    print(\"Neural Networks\")\n",
    "    message = \"Neural Networks: \"\n",
    "    print(\"Vision\")\n",
    "    message = \"Vision: \"\n",
    "    print(\"Robotics\")\n",
    "    message = \"Robotics: \"\n",
    "    print(\"Speech Processing\")\n",
    "    message = \"Speech Processing: \"\n",
    "    print(\"Natural Language Processing\")\n",
    "    message = \"Natural Language Processing: \"\n",
    "    return message"
   ]
  },
  {
   "cell_type": "code",
   "execution_count": 11,
   "id": "c64b3ef0-e7bd-4edd-a92f-6bdf962138ff",
   "metadata": {},
   "outputs": [
    {
     "name": "stdout",
     "output_type": "stream",
     "text": [
      "Sub-fields in AI are: \n",
      "Machine Learning\n",
      "Neural Networks\n",
      "Vision\n",
      "Robotics\n",
      "Speech Processing\n",
      "Natural Language Processing\n"
     ]
    }
   ],
   "source": [
    "SubfieldsInAI = Subfields()"
   ]
  },
  {
   "cell_type": "code",
   "execution_count": null,
   "id": "83d4007e-01dc-44aa-a50b-e0696b92a6e2",
   "metadata": {},
   "outputs": [],
   "source": [
    "# Create a function that checks whether the given number is Odd or Even"
   ]
  },
  {
   "cell_type": "code",
   "execution_count": 12,
   "id": "7251c781-9f88-4978-8ad3-913f1f503f28",
   "metadata": {},
   "outputs": [],
   "source": [
    "def OddEven():\n",
    "    num=int(input(\"Enter the number : \"))\n",
    "    if((num%2)==1):\n",
    "        print(num, end=\" is Odd number\\n\")\n",
    "        message = \" is Odd number\\n\"\n",
    "    else:\n",
    "        print(num, end=\"is Even number\")\n",
    "        message = \" is Even number\\n\"\n",
    "        return message"
   ]
  },
  {
   "cell_type": "code",
   "execution_count": 13,
   "id": "f56c66d2-fd0d-480b-825c-b4fda0707e98",
   "metadata": {},
   "outputs": [
    {
     "name": "stdin",
     "output_type": "stream",
     "text": [
      "Enter the number :  5\n"
     ]
    },
    {
     "name": "stdout",
     "output_type": "stream",
     "text": [
      "5 is Odd number\n"
     ]
    }
   ],
   "source": [
    "message = OddEven()"
   ]
  },
  {
   "cell_type": "code",
   "execution_count": null,
   "id": "417777b4-655f-48b4-97f1-2f4b824ac3ee",
   "metadata": {},
   "outputs": [],
   "source": [
    " # Create a function that tells elegibility of marriage for male and female according to their age limit like 21 for male and 18 for female"
   ]
  },
  {
   "cell_type": "code",
   "execution_count": 1,
   "id": "fe0f1a13-a123-4938-a682-dffa604cf203",
   "metadata": {},
   "outputs": [],
   "source": [
    "def Elegible():\n",
    "    str1=str(input(\"Your gender :\"))\n",
    "    age=int(input(\"Your age :\"))\n",
    "    if(str1==\"Male\"):\n",
    "            if(age<25):\n",
    "                print(\"You are not eligible\")\n",
    "                message = \" You are not eligible\\n\"\n",
    "            else:\n",
    "                print(\"You are eligible\")\n",
    "                message = \" You are eligible\\n\"\n",
    "    elif(str1==\"Female\"):\n",
    "               if(age<21):\n",
    "                    print(\"You are not eligible\")\n",
    "                    message = \" You are eligible\\n\"\n",
    "               else:\n",
    "                    print(\"You are eligible\")\n",
    "                    message = \" You are not eligible\\n\"\n",
    "   \n",
    "\n"
   ]
  },
  {
   "cell_type": "code",
   "execution_count": 2,
   "id": "7c18ef28-5bde-4b85-a891-ed55b00d8a4d",
   "metadata": {},
   "outputs": [
    {
     "name": "stdin",
     "output_type": "stream",
     "text": [
      "Your gender : Male\n",
      "Your age : 20\n"
     ]
    },
    {
     "name": "stdout",
     "output_type": "stream",
     "text": [
      "You are not eligible\n"
     ]
    }
   ],
   "source": [
    "ElegiblityForMarriage = Elegible()\n"
   ]
  },
  {
   "cell_type": "code",
   "execution_count": 3,
   "id": "37aad6fa-703e-411e-994f-0eb01fca8360",
   "metadata": {},
   "outputs": [],
   "source": [
    " # calculate the percentage of your 10th mark"
   ]
  },
  {
   "cell_type": "code",
   "execution_count": 4,
   "id": "7fdad53f-ff36-4278-9a31-2c501f1b20d9",
   "metadata": {},
   "outputs": [],
   "source": [
    "def percentage():\n",
    "    sub1=int(input(\"Subject1 :\"))\n",
    "    sub2=int(input(\"Subject2 :\"))\n",
    "    sub3=int(input(\"Subject3 :\"))\n",
    "    sub4=int(input(\"Subject4 :\"))\n",
    "    sub5=int(input(\"Subject5 :\"))\n",
    "    total = sub1+sub2+sub3+sub4+sub5\n",
    "    print(\"Total : \",total)\n",
    "    per = total/5\n",
    "    print(\"Percentage : \",per)\n"
   ]
  },
  {
   "cell_type": "code",
   "execution_count": 5,
   "id": "a0c3ea00-9432-4432-a2e2-bf8f8b0cb3fe",
   "metadata": {},
   "outputs": [
    {
     "name": "stdin",
     "output_type": "stream",
     "text": [
      "Subject1 : 56\n",
      "Subject2 : 67\n",
      "Subject3 : 78\n",
      "Subject4 : 89\n",
      "Subject5 : 78\n"
     ]
    },
    {
     "name": "stdout",
     "output_type": "stream",
     "text": [
      "Total :  368\n",
      "Percentage :  73.6\n"
     ]
    }
   ],
   "source": [
    "FindPercent = percentage()\n"
   ]
  },
  {
   "cell_type": "code",
   "execution_count": 8,
   "id": "a7bb4d9a-cd01-4804-801d-b8d3b36c9035",
   "metadata": {},
   "outputs": [],
   "source": [
    "def triangle():\n",
    "    h=int(input(\"Height :\"))\n",
    "    b=int(input(\"Breadth :\"))\n",
    "    print(\"Area formula: (Height*Breadth)/2\")\n",
    "    str =(h*b)/2\n",
    "    print(\"Area of Triangle: \", str)\n",
    "    h1=int(input(\"Height1 :\"))\n",
    "    h2=int(input(\"Height2 :\"))\n",
    "    b1=int(input(\"Breadth :\"))\n",
    "    print(\"Perimeter formula: Height1+Height2+Breadth\")\n",
    "    str1 =(h1+h2+b1)\n",
    "    print(\"Perimeter of Triangle: \", str1)\n"
   ]
  },
  {
   "cell_type": "code",
   "execution_count": 9,
   "id": "f9326612-a76b-4c3c-8228-2928d4431960",
   "metadata": {},
   "outputs": [
    {
     "name": "stdin",
     "output_type": "stream",
     "text": [
      "Height : 32\n",
      "Breadth : 34\n"
     ]
    },
    {
     "name": "stdout",
     "output_type": "stream",
     "text": [
      "Area formula: (Height*Breadth)/2\n",
      "Area of Triangle:  544.0\n"
     ]
    },
    {
     "name": "stdin",
     "output_type": "stream",
     "text": [
      "Height1 : 2\n",
      "Height2 : 4\n",
      "Breadth : 4\n"
     ]
    },
    {
     "name": "stdout",
     "output_type": "stream",
     "text": [
      "Perimeter formula: Height1+Height2+Breadth\n",
      "Perimeter of Triangle:  10\n"
     ]
    }
   ],
   "source": [
    "triangle = triangle()"
   ]
  },
  {
   "cell_type": "code",
   "execution_count": null,
   "id": "f1e0c15b-f7d3-46a6-b6ec-0e741fa48021",
   "metadata": {},
   "outputs": [],
   "source": []
  }
 ],
 "metadata": {
  "kernelspec": {
   "display_name": "Python 3 (ipykernel)",
   "language": "python",
   "name": "python3"
  },
  "language_info": {
   "codemirror_mode": {
    "name": "ipython",
    "version": 3
   },
   "file_extension": ".py",
   "mimetype": "text/x-python",
   "name": "python",
   "nbconvert_exporter": "python",
   "pygments_lexer": "ipython3",
   "version": "3.11.7"
  }
 },
 "nbformat": 4,
 "nbformat_minor": 5
}
