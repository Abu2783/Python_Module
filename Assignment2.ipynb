{
 "cells": [
  {
   "cell_type": "code",
   "execution_count": 1,
   "id": "cda50015-45ca-4323-8328-366b60a478de",
   "metadata": {},
   "outputs": [
    {
     "name": "stdout",
     "output_type": "stream",
     "text": [
      "HOPE AI\n"
     ]
    }
   ],
   "source": [
    "print(\"HOPE AI\")"
   ]
  },
  {
   "cell_type": "code",
   "execution_count": 5,
   "id": "814edd41-35b0-4883-bb32-62eecbee60cf",
   "metadata": {},
   "outputs": [
    {
     "name": "stdin",
     "output_type": "stream",
     "text": [
      "Enter Your Institute Name?:  HOPE AI\n",
      "Enter Your  Name:  ABUBUCKER M S\n",
      "Enter Your School Name:  St.Peter's Hr Sec School\n",
      "Enter Your Degree:  B.TECH(IT)\n"
     ]
    },
    {
     "name": "stdout",
     "output_type": "stream",
     "text": [
      "\n"
     ]
    }
   ],
   "source": [
    "input(\"Enter Your Institute Name?: \")\n",
    "input(\"Enter Your  Name: \")\n",
    "input(\"Enter Your School Name: \")\n",
    "input(\"Enter Your Degree: \")\n",
    "print(\"\")"
   ]
  },
  {
   "cell_type": "code",
   "execution_count": 6,
   "id": "b50ae8c6-8b16-4578-b416-4f73d25ad33c",
   "metadata": {},
   "outputs": [],
   "source": [
    "#Addition"
   ]
  },
  {
   "cell_type": "code",
   "execution_count": 7,
   "id": "bccab6e5-303d-4c4f-bb46-0b842921276f",
   "metadata": {},
   "outputs": [
    {
     "name": "stdout",
     "output_type": "stream",
     "text": [
      "NUM1 = 43\n",
      "NUM2 = 34\n",
      "ADD = 77\n"
     ]
    }
   ],
   "source": [
    "num1 = 43\n",
    "num2 = 34\n",
    "add = num1 + num2\n",
    "print(\"NUM1 =\",num1)\n",
    "print(\"NUM2 =\",num2)\n",
    "print(\"ADD =\",add)"
   ]
  },
  {
   "cell_type": "code",
   "execution_count": 8,
   "id": "1d936a76-a4a3-461c-b808-86bd7574b91b",
   "metadata": {},
   "outputs": [],
   "source": [
    "#Subtraction"
   ]
  },
  {
   "cell_type": "code",
   "execution_count": 9,
   "id": "336ce2c0-1bc9-4155-855f-b0bc391ed8f6",
   "metadata": {},
   "outputs": [
    {
     "name": "stdout",
     "output_type": "stream",
     "text": [
      "NUM1 = 43\n",
      "NUM2 = 34\n",
      "SUB = 9\n"
     ]
    }
   ],
   "source": [
    "num1 = 43\n",
    "num2 = 34\n",
    "sub = num1 - num2\n",
    "print(\"NUM1 =\",num1)\n",
    "print(\"NUM2 =\",num2)\n",
    "print(\"SUB =\",sub)"
   ]
  },
  {
   "cell_type": "code",
   "execution_count": 10,
   "id": "8af63a6e-e78a-4a6d-a4f2-87e16b036185",
   "metadata": {},
   "outputs": [],
   "source": [
    "#Multiplication"
   ]
  },
  {
   "cell_type": "code",
   "execution_count": 11,
   "id": "964c2d08-41ab-4b39-95a5-4bcbf2666629",
   "metadata": {},
   "outputs": [
    {
     "name": "stdout",
     "output_type": "stream",
     "text": [
      "NUM1 = 63\n",
      "NUM2 = 97\n",
      "MUL = 6111\n"
     ]
    }
   ],
   "source": [
    "num1 = 63\n",
    "num2 = 97\n",
    "mul = num1 * num2\n",
    "print(\"NUM1 =\",num1)\n",
    "print(\"NUM2 =\",num2)\n",
    "print(\"MUL =\",mul)"
   ]
  },
  {
   "cell_type": "code",
   "execution_count": 12,
   "id": "4ad3a7d0-ae6b-4d5e-914d-53e0cf5a1eba",
   "metadata": {},
   "outputs": [],
   "source": [
    "#Division"
   ]
  },
  {
   "cell_type": "code",
   "execution_count": 13,
   "id": "bfad1ff1-95be-4055-8341-036ba6a9841e",
   "metadata": {},
   "outputs": [
    {
     "name": "stdout",
     "output_type": "stream",
     "text": [
      "NUM1 = 76\n",
      "NUM2 = 31\n",
      "Float Div = 2.4516129032258065\n"
     ]
    }
   ],
   "source": [
    "num1 = 76\n",
    "num2 = 31\n",
    "div = num1 / num2\n",
    "print(\"NUM1 =\",num1)\n",
    "print(\"NUM2 =\",num2)\n",
    "print(\"Float Div =\",div)"
   ]
  },
  {
   "cell_type": "code",
   "execution_count": 14,
   "id": "334210ce-ecbc-43eb-b623-aff7f1c387b4",
   "metadata": {},
   "outputs": [],
   "source": [
    "#Floor Division"
   ]
  },
  {
   "cell_type": "code",
   "execution_count": 16,
   "id": "bf21eea3-c2e4-4e4d-9ad3-019315ef3343",
   "metadata": {},
   "outputs": [
    {
     "name": "stdout",
     "output_type": "stream",
     "text": [
      "NUM1 = 76\n",
      "NUM2 = 31\n",
      "Floor Div = 2\n"
     ]
    }
   ],
   "source": [
    "num1 = 76\n",
    "num2 = 31\n",
    "div = num1 // num2\n",
    "print(\"NUM1 =\",num1)\n",
    "print(\"NUM2 =\",num2)\n",
    "print(\"Floor Div =\",div)"
   ]
  },
  {
   "cell_type": "code",
   "execution_count": 17,
   "id": "87c81868-9a06-4246-9471-aee937fea19c",
   "metadata": {},
   "outputs": [],
   "source": [
    "#Modulo"
   ]
  },
  {
   "cell_type": "code",
   "execution_count": 18,
   "id": "b4776d22-1163-4769-88aa-f55d32c17592",
   "metadata": {},
   "outputs": [
    {
     "name": "stdout",
     "output_type": "stream",
     "text": [
      "NUM1 = 76\n",
      "NUM2 = 31\n",
      "Modulo = 14\n"
     ]
    }
   ],
   "source": [
    "num1 = 76\n",
    "num2 = 31\n",
    "mod = num1 % num2\n",
    "print(\"NUM1 =\",num1)\n",
    "print(\"NUM2 =\",num2)\n",
    "print(\"Modulo =\",mod)"
   ]
  },
  {
   "cell_type": "code",
   "execution_count": 19,
   "id": "405cb98e-2603-4a96-8a8e-acc669550081",
   "metadata": {},
   "outputs": [],
   "source": [
    "#Power"
   ]
  },
  {
   "cell_type": "code",
   "execution_count": 22,
   "id": "6f2e7532-fa8f-4fa0-b3e9-2c8e08f3f9a5",
   "metadata": {},
   "outputs": [
    {
     "name": "stdout",
     "output_type": "stream",
     "text": [
      "NUM1 = 4\n",
      "NUM2 = 4\n",
      "Power = 256\n"
     ]
    }
   ],
   "source": [
    "num1 = 4\n",
    "num2 = 4\n",
    "pow = (num1 * num2)**2\n",
    "print(\"NUM1 =\",num1)\n",
    "print(\"NUM2 =\",num2)\n",
    "print(\"Power =\",pow)"
   ]
  },
  {
   "cell_type": "code",
   "execution_count": null,
   "id": "b532316d-b05e-4977-a8dc-0706ea579ffe",
   "metadata": {},
   "outputs": [],
   "source": []
  }
 ],
 "metadata": {
  "kernelspec": {
   "display_name": "Python 3 (ipykernel)",
   "language": "python",
   "name": "python3"
  },
  "language_info": {
   "codemirror_mode": {
    "name": "ipython",
    "version": 3
   },
   "file_extension": ".py",
   "mimetype": "text/x-python",
   "name": "python",
   "nbconvert_exporter": "python",
   "pygments_lexer": "ipython3",
   "version": "3.11.7"
  }
 },
 "nbformat": 4,
 "nbformat_minor": 5
}
