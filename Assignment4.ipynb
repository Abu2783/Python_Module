{
 "cells": [
  {
   "cell_type": "code",
   "execution_count": 1,
   "id": "e84ae3cf-4ea0-4daf-94d8-4815db127c4e",
   "metadata": {},
   "outputs": [],
   "source": [
    "# print 'CORRECT' if i == 10"
   ]
  },
  {
   "cell_type": "code",
   "execution_count": 3,
   "id": "39ed5542-7ab1-460c-88cc-a7f3e3f3df78",
   "metadata": {},
   "outputs": [
    {
     "name": "stdout",
     "output_type": "stream",
     "text": [
      "value:  10\n",
      "Correct\n"
     ]
    }
   ],
   "source": [
    "i = 10\n",
    "if(i ==10):\n",
    "    print(\"value: \",i)\n",
    "    print(\"Correct\")\n",
    "else:\n",
    "    print(\"Wrong\")\n"
   ]
  },
  {
   "cell_type": "code",
   "execution_count": 4,
   "id": "51c26cca-8202-4256-a541-a288af910dd0",
   "metadata": {},
   "outputs": [],
   "source": [
    "# Check the password, using if and else\n"
   ]
  },
  {
   "cell_type": "code",
   "execution_count": 8,
   "id": "6e61b13a-aa19-4382-96de-0b910a7c39aa",
   "metadata": {},
   "outputs": [
    {
     "name": "stdin",
     "output_type": "stream",
     "text": [
      "Entger the Password :  HOPE@123\n"
     ]
    },
    {
     "name": "stdout",
     "output_type": "stream",
     "text": [
      "Your password is correct\n"
     ]
    }
   ],
   "source": [
    "pwd = \"HOPE@123\"\n",
    "str = input(\"Entger the Password : \")\n",
    "if(str == pwd):\n",
    "    print(\"Your password is correct\")\n",
    "else:\n",
    "    print(\"Your password is wrong\")"
   ]
  },
  {
   "cell_type": "code",
   "execution_count": 9,
   "id": "230f02c0-e13d-4696-ae27-313f0b08b541",
   "metadata": {},
   "outputs": [],
   "source": [
    "# Catagory the people by their age like children, adult, citizen, senior citizen..."
   ]
  },
  {
   "cell_type": "code",
   "execution_count": 11,
   "id": "6d73e0e2-5423-4bd4-9964-a8f6f28ae3f4",
   "metadata": {},
   "outputs": [
    {
     "name": "stdin",
     "output_type": "stream",
     "text": [
      "Enter your age:  20\n"
     ]
    },
    {
     "name": "stdout",
     "output_type": "stream",
     "text": [
      "Your Age =  20\n",
      "Adult\n"
     ]
    }
   ],
   "source": [
    "age= int(input(\"Enter your age: \"))\n",
    "if(age<18):\n",
    "         print(\"Your Age = \",age)\n",
    "         print(\"Children\")\n",
    "elif(age<35):\n",
    "         print(\"Your Age = \",age)\n",
    "         print(\"Adult\")\n",
    "elif(age<59):\n",
    "         print(\"Your Age = \",age)\n",
    "         print(\"Citizen\")\n",
    "else:\n",
    "         print(\"Your Age = \",age)\n",
    "         print(\"Senior Citizen\")"
   ]
  },
  {
   "cell_type": "code",
   "execution_count": 12,
   "id": "4d65b2f2-b4bd-4b87-9248-7eab64153d6a",
   "metadata": {},
   "outputs": [],
   "source": [
    "# Find whether given number is positive or negative"
   ]
  },
  {
   "cell_type": "code",
   "execution_count": 16,
   "id": "3ae11f1b-3b77-4ff5-9f15-0d50df70f782",
   "metadata": {},
   "outputs": [
    {
     "name": "stdin",
     "output_type": "stream",
     "text": [
      "Enter the number :  1\n"
     ]
    },
    {
     "name": "stdout",
     "output_type": "stream",
     "text": [
      "The entered numbe is positive :  1\n"
     ]
    }
   ],
   "source": [
    "num = int(input(\"Enter the number : \"))\n",
    "if(num>=0):\n",
    "         if(num == 0):\n",
    "                print(\" Entered number equal to zero\")\n",
    "         else:\n",
    "             print(\"The entered numbe is positive : \", num)\n",
    "else:\n",
    "    print(\"The entered numbe is negative : \", num)\n",
    "\n",
    "\n"
   ]
  },
  {
   "cell_type": "code",
   "execution_count": 17,
   "id": "f9df906b-600d-4d1a-91bc-faa5a5d38d25",
   "metadata": {},
   "outputs": [],
   "source": [
    "# Check whether the given number is divisible by 5"
   ]
  },
  {
   "cell_type": "code",
   "execution_count": 21,
   "id": "d7ede64b-1a78-405f-ac2a-d535efbfe418",
   "metadata": {},
   "outputs": [
    {
     "name": "stdin",
     "output_type": "stream",
     "text": [
      "Enter the number :  22\n"
     ]
    },
    {
     "name": "stdout",
     "output_type": "stream",
     "text": [
      "The given number is not divisible by 5\n"
     ]
    }
   ],
   "source": [
    "num=int(input(\"Enter the number : \"))\n",
    "if((num%5)==0):\n",
    "    print(\"The given number is divisible by 5\")\n",
    "else:\n",
    "    print(\"The given number is not divisible by 5\")"
   ]
  },
  {
   "cell_type": "code",
   "execution_count": null,
   "id": "32764480-1fa8-4b83-bd25-578bc4e9d51a",
   "metadata": {},
   "outputs": [],
   "source": []
  }
 ],
 "metadata": {
  "kernelspec": {
   "display_name": "Python 3 (ipykernel)",
   "language": "python",
   "name": "python3"
  },
  "language_info": {
   "codemirror_mode": {
    "name": "ipython",
    "version": 3
   },
   "file_extension": ".py",
   "mimetype": "text/x-python",
   "name": "python",
   "nbconvert_exporter": "python",
   "pygments_lexer": "ipython3",
   "version": "3.11.7"
  }
 },
 "nbformat": 4,
 "nbformat_minor": 5
}
