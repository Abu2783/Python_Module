{
 "cells": [
  {
   "cell_type": "code",
   "execution_count": 1,
   "id": "f52274f7-ac1d-466f-81e6-ab8dd8179f86",
   "metadata": {},
   "outputs": [],
   "source": [
    "from multiLib import multiLib"
   ]
  },
  {
   "cell_type": "code",
   "execution_count": 3,
   "id": "e80ab05c-ac0a-4991-a4fa-3178e083d2d4",
   "metadata": {},
   "outputs": [
    {
     "name": "stdout",
     "output_type": "stream",
     "text": [
      "Sub-fields in AI are: \n",
      "Machine Learning\n",
      "Neural Networks\n",
      "Vision\n",
      "Robotics\n",
      "Speech Processing\n",
      "Natural Language Processing\n"
     ]
    },
    {
     "data": {
      "text/plain": [
       "'Natural Language Processing: '"
      ]
     },
     "execution_count": 3,
     "metadata": {},
     "output_type": "execute_result"
    }
   ],
   "source": [
    "multiLib.Subfields()"
   ]
  },
  {
   "cell_type": "code",
   "execution_count": 4,
   "id": "cdca2c2a-c39b-429f-80cf-86a52c40f3ac",
   "metadata": {},
   "outputs": [
    {
     "name": "stdin",
     "output_type": "stream",
     "text": [
      "Enter the number :  5\n"
     ]
    },
    {
     "name": "stdout",
     "output_type": "stream",
     "text": [
      "5 is Odd number\n"
     ]
    }
   ],
   "source": [
    "multiLib.OddEven()"
   ]
  },
  {
   "cell_type": "code",
   "execution_count": 5,
   "id": "7e63d9fc-4dc5-43a6-8002-7b0165be7252",
   "metadata": {},
   "outputs": [
    {
     "name": "stdin",
     "output_type": "stream",
     "text": [
      "Your gender : Male\n",
      "Your age : 21\n"
     ]
    },
    {
     "name": "stdout",
     "output_type": "stream",
     "text": [
      "You are not eligible\n"
     ]
    }
   ],
   "source": [
    "multiLib.Elegible()"
   ]
  },
  {
   "cell_type": "code",
   "execution_count": 6,
   "id": "aaf938a9-1100-4e3d-8c67-f66920268f57",
   "metadata": {},
   "outputs": [
    {
     "name": "stdin",
     "output_type": "stream",
     "text": [
      "Subject1 : 98\n",
      "Subject2 : 87\n",
      "Subject3 : 95\n",
      "Subject4 : 95\n",
      "Subject5 : 93\n"
     ]
    },
    {
     "name": "stdout",
     "output_type": "stream",
     "text": [
      "Total :  468\n",
      "Percentage :  93.6\n"
     ]
    }
   ],
   "source": [
    "multiLib.percentage()"
   ]
  },
  {
   "cell_type": "code",
   "execution_count": 7,
   "id": "bf7f437c-6e1a-44fc-b34e-389c79d1036b",
   "metadata": {},
   "outputs": [
    {
     "name": "stdin",
     "output_type": "stream",
     "text": [
      "Height : 32\n",
      "Breadth : 34\n"
     ]
    },
    {
     "name": "stdout",
     "output_type": "stream",
     "text": [
      "Area formula: (Height*Breadth)/2\n",
      "Area of Triangle:  544.0\n"
     ]
    },
    {
     "name": "stdin",
     "output_type": "stream",
     "text": [
      "Height1 : 2\n",
      "Height2 : 4\n",
      "Breadth : 4\n"
     ]
    },
    {
     "name": "stdout",
     "output_type": "stream",
     "text": [
      "Perimeter formula: Height1+Height2+Breadth\n",
      "Perimeter of Triangle:  10\n"
     ]
    }
   ],
   "source": [
    "multiLib.triangle()"
   ]
  },
  {
   "cell_type": "code",
   "execution_count": null,
   "id": "24948bd3-4f11-4cb9-90cd-875666e7f619",
   "metadata": {},
   "outputs": [],
   "source": []
  }
 ],
 "metadata": {
  "kernelspec": {
   "display_name": "Python 3 (ipykernel)",
   "language": "python",
   "name": "python3"
  },
  "language_info": {
   "codemirror_mode": {
    "name": "ipython",
    "version": 3
   },
   "file_extension": ".py",
   "mimetype": "text/x-python",
   "name": "python",
   "nbconvert_exporter": "python",
   "pygments_lexer": "ipython3",
   "version": "3.11.7"
  }
 },
 "nbformat": 4,
 "nbformat_minor": 5
}
