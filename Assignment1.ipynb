{
 "cells": [
  {
   "cell_type": "code",
   "execution_count": null,
   "id": "8cab0ac2-340a-4b1c-8004-f2ed14f28d03",
   "metadata": {},
   "outputs": [],
   "source": [
    "print(\"Welcome to Assignment-1\")"
   ]
  },
  {
   "cell_type": "code",
   "execution_count": 1,
   "id": "ae2efa5e-70b5-4dc3-8264-09af6b2d0f6f",
   "metadata": {},
   "outputs": [
    {
     "name": "stdout",
     "output_type": "stream",
     "text": [
      "NUM1 = 10\n",
      "NUM2 = 30\n",
      "ADD = 40\n"
     ]
    }
   ],
   "source": [
    "num1 = 10\n",
    "num2 = 30\n",
    "add = num1 + num2\n",
    "print(\"NUM1 =\",num1)\n",
    "print(\"NUM2 =\",num2)\n",
    "print(\"ADD =\",add)"
   ]
  },
  {
   "cell_type": "code",
   "execution_count": 6,
   "id": "1c1902a8-9d56-4f0f-9aaa-d869d62db57a",
   "metadata": {},
   "outputs": [
    {
     "name": "stdin",
     "output_type": "stream",
     "text": [
      "Enter the BMI Index: 34\n"
     ]
    },
    {
     "name": "stdout",
     "output_type": "stream",
     "text": [
      "Class I Obesity\n"
     ]
    }
   ],
   "source": [
    "bmi=int(input(\"Enter the BMI Index:\"))\n",
    "if(bmi<18.5):\n",
    "    print(\"Below Normal Weight\")\n",
    "elif(bmi>=18.5 and bmi<25):\n",
    "    print(\"Normal Weight\")\n",
    "elif(bmi>=25 and bmi<30):\n",
    "    print(\"Overweight\")\n",
    "elif(bmi>=30 and bmi<35):\n",
    "    print(\"Class I Obesity\")\n",
    "elif(bmi>=35 and bmi<40):\n",
    "    print(\"Class II Obesity\")\n",
    "else:\n",
    "    print(\"Class III Obesity\")\n"
   ]
  },
  {
   "cell_type": "code",
   "execution_count": null,
   "id": "30ee32d4-d472-430c-ac74-abb172903bac",
   "metadata": {},
   "outputs": [],
   "source": []
  }
 ],
 "metadata": {
  "kernelspec": {
   "display_name": "Python 3 (ipykernel)",
   "language": "python",
   "name": "python3"
  },
  "language_info": {
   "codemirror_mode": {
    "name": "ipython",
    "version": 3
   },
   "file_extension": ".py",
   "mimetype": "text/x-python",
   "name": "python",
   "nbconvert_exporter": "python",
   "pygments_lexer": "ipython3",
   "version": "3.11.7"
  }
 },
 "nbformat": 4,
 "nbformat_minor": 5
}
