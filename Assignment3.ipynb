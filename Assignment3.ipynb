{
 "cells": [
  {
   "cell_type": "code",
   "execution_count": 5,
   "id": "74c0a6e7-2f39-4f02-9ba4-6d60e4d9b162",
   "metadata": {},
   "outputs": [],
   "source": [
    "# print 0 to 20 by using range"
   ]
  },
  {
   "cell_type": "code",
   "execution_count": 6,
   "id": "e6b1af5b-789a-40ab-800c-bd153ed6d60a",
   "metadata": {},
   "outputs": [
    {
     "name": "stdout",
     "output_type": "stream",
     "text": [
      "0\n",
      "1\n",
      "2\n",
      "3\n",
      "4\n",
      "5\n",
      "6\n",
      "7\n",
      "8\n",
      "9\n",
      "10\n",
      "11\n",
      "12\n",
      "13\n",
      "14\n",
      "15\n",
      "16\n",
      "17\n",
      "18\n",
      "19\n"
     ]
    }
   ],
   "source": [
    "for num in range(0,20):\n",
    "    print(num)"
   ]
  },
  {
   "cell_type": "code",
   "execution_count": 7,
   "id": "eb3a0046-d55e-4065-9059-a56d5e5ea799",
   "metadata": {},
   "outputs": [],
   "source": [
    "# print range 10 to 20"
   ]
  },
  {
   "cell_type": "code",
   "execution_count": 11,
   "id": "49b47685-2b6b-43be-93b7-94d205543de9",
   "metadata": {},
   "outputs": [
    {
     "name": "stdout",
     "output_type": "stream",
     "text": [
      "10 11 12 13 14 15 16 17 18 19 "
     ]
    }
   ],
   "source": [
    "for num in range(10,20):\n",
    "    print(num, end=' ')"
   ]
  },
  {
   "cell_type": "code",
   "execution_count": 12,
   "id": "4a8b07a8-6df4-4b38-bd52-b5584f90da1a",
   "metadata": {},
   "outputs": [],
   "source": [
    "# Print number of items in the list by using 'len'"
   ]
  },
  {
   "cell_type": "code",
   "execution_count": 13,
   "id": "229a70d3-b1fd-4d25-b5ae-a97170a58cb9",
   "metadata": {},
   "outputs": [
    {
     "name": "stdout",
     "output_type": "stream",
     "text": [
      "[10, 20, 14, 55, 43, 87, 76]\n",
      "Number of item in the List2:\n",
      "7\n"
     ]
    }
   ],
   "source": [
    "list2 = [10, 20, 14, 55, 43, 87, 76]\n",
    "print(list2)\n",
    "print(\"Number of item in the List2:\")\n",
    "print(len(list2))"
   ]
  },
  {
   "cell_type": "code",
   "execution_count": 17,
   "id": "e7cbc81f-099a-4f89-9a21-ad9041ab2452",
   "metadata": {},
   "outputs": [
    {
     "name": "stdout",
     "output_type": "stream",
     "text": [
      "Artificial Intelligence\n",
      "A\n",
      "r\n",
      "t\n",
      "i\n",
      "f\n",
      "i\n",
      "c\n",
      "i\n",
      "a\n",
      "l\n",
      " \n",
      "I\n",
      "n\n",
      "t\n",
      "e\n",
      "l\n",
      "l\n",
      "i\n",
      "g\n",
      "e\n",
      "n\n",
      "c\n",
      "e\n"
     ]
    }
   ],
   "source": [
    "str = \"Artificial Intelligence\"\n",
    "print(str)\n",
    "for temp in str:\n",
    "    print(temp, end='\\n')\n",
    "    "
   ]
  },
  {
   "cell_type": "code",
   "execution_count": 19,
   "id": "0a6da870-bf82-4a36-867d-d309c4f55b0a",
   "metadata": {},
   "outputs": [
    {
     "name": "stdin",
     "output_type": "stream",
     "text": [
      "-Your Name- Abubucker M S\n",
      "-Your Age- 40\n",
      "-Your Profession- IT\n"
     ]
    },
    {
     "name": "stdout",
     "output_type": "stream",
     "text": [
      "\n"
     ]
    }
   ],
   "source": [
    "input(\"-Your Name-\")\n",
    "input(\"-Your Age-\")\n",
    "input(\"-Your Profession-\")\n",
    "print( )"
   ]
  },
  {
   "cell_type": "code",
   "execution_count": 20,
   "id": "bd18b770-2508-46b3-b76e-526dbce1dd08",
   "metadata": {},
   "outputs": [],
   "source": [
    " # Refer this link : https://www.geeksforgeeks.org/python-tuples/\n",
    "# Print yhis mixered datatype using Tuples"
   ]
  },
  {
   "cell_type": "code",
   "execution_count": 22,
   "id": "d625bd55-1552-4dfb-abfb-65bdd407130e",
   "metadata": {},
   "outputs": [
    {
     "name": "stdout",
     "output_type": "stream",
     "text": [
      "\n",
      "Tuple with Mixed Datatypes: \n",
      "(1, 'Welcome', 2, 'Hope')\n"
     ]
    }
   ],
   "source": [
    "list1 = [1, 'Welcome', 2, 'Hope']\n",
    "print(\"\\nTuple with Mixed Datatypes: \")\n",
    "print(tuple(list1))"
   ]
  },
  {
   "cell_type": "code",
   "execution_count": 23,
   "id": "12e67ed3-ed3b-45f3-9900-bbe68f85d37d",
   "metadata": {},
   "outputs": [],
   "source": [
    "# Creating a Tuple\n",
    "# with nested tuples"
   ]
  },
  {
   "cell_type": "code",
   "execution_count": 24,
   "id": "9ce205ab-828e-4bc3-8440-cf2143c4c359",
   "metadata": {},
   "outputs": [
    {
     "name": "stdout",
     "output_type": "stream",
     "text": [
      "\n",
      "Tuple with nested tuples: \n",
      "((0, 1, 2, 3), ('python', 'hope'))\n"
     ]
    }
   ],
   "source": [
    "Tuple1 = (0, 1, 2, 3)\n",
    "Tuple2 = ('python', 'hope')\n",
    "Tuple3 = (Tuple1, Tuple2)\n",
    "print(\"\\nTuple with nested tuples: \")\n",
    "print(Tuple3)"
   ]
  },
  {
   "cell_type": "code",
   "execution_count": 25,
   "id": "6abf3df5-0dd5-481a-82ef-7d89897ccb2b",
   "metadata": {},
   "outputs": [],
   "source": [
    " # print Odd Numbers in the list"
   ]
  },
  {
   "cell_type": "code",
   "execution_count": 42,
   "id": "29fa0634-d0df-4637-911e-db9fe76ed837",
   "metadata": {},
   "outputs": [
    {
     "name": "stdout",
     "output_type": "stream",
     "text": [
      "(20, 10, 16, 19, 25, 1, 276, 188)\n",
      "19 odd number\n",
      "25 odd number\n",
      "1 odd number\n"
     ]
    }
   ],
   "source": [
    "list1 = [20,10,16,19,25,1,276,188]\n",
    "print(tuple(list1))\n",
    "for num in list1:\n",
    "    if((num%2)!=0):\n",
    "                print(num, end=\" odd number\\n\")\n"
   ]
  },
  {
   "cell_type": "code",
   "execution_count": 44,
   "id": "8b3e242a-5e21-47f4-90c1-34cbfbf973d7",
   "metadata": {},
   "outputs": [],
   "source": [
    " # print Even Numbers in the list"
   ]
  },
  {
   "cell_type": "code",
   "execution_count": 46,
   "id": "d5254c3d-c479-460e-a808-37478ef190c2",
   "metadata": {},
   "outputs": [
    {
     "name": "stdout",
     "output_type": "stream",
     "text": [
      "(20, 10, 16, 19, 25, 1, 276, 188)\n",
      "20 Even number\n",
      "10 Even number\n",
      "16 Even number\n",
      "276 Even number\n",
      "188 Even number\n"
     ]
    }
   ],
   "source": [
    "list1 = [20,10,16,19,25,1,276,188]\n",
    "print(tuple(list1))\n",
    "for num in list1:\n",
    "    if((num%2)==0):\n",
    "                print(num, end=\" Even number\\n\")"
   ]
  },
  {
   "cell_type": "code",
   "execution_count": null,
   "id": "1c68f097-4e07-40b0-87b8-21450b91930f",
   "metadata": {},
   "outputs": [],
   "source": []
  }
 ],
 "metadata": {
  "kernelspec": {
   "display_name": "Python 3 (ipykernel)",
   "language": "python",
   "name": "python3"
  },
  "language_info": {
   "codemirror_mode": {
    "name": "ipython",
    "version": 3
   },
   "file_extension": ".py",
   "mimetype": "text/x-python",
   "name": "python",
   "nbconvert_exporter": "python",
   "pygments_lexer": "ipython3",
   "version": "3.11.7"
  }
 },
 "nbformat": 4,
 "nbformat_minor": 5
}
